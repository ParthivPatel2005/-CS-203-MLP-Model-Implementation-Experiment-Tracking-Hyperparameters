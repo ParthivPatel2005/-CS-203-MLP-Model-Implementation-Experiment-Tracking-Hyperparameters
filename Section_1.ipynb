{
 "cells": [
  {
   "cell_type": "markdown",
   "metadata": {},
   "source": [
    "# Section 1: MLP Model Implementation & Experiment Tracking"
   ]
  },
  {
   "cell_type": "markdown",
   "metadata": {},
   "source": [
    "##  Implement a Multi-Layer Perceptron (MLP) Using the Iris Dataset"
   ]
  },
  {
   "cell_type": "code",
   "execution_count": 1,
   "metadata": {},
   "outputs": [],
   "source": [
    "# !pip install wandb\n",
    "# !pip install seaborn"
   ]
  },
  {
   "cell_type": "code",
   "execution_count": 2,
   "metadata": {},
   "outputs": [],
   "source": [
    "# !pip install distutils\n",
    "\n",
    "# # restart the kernal now for py3.13"
   ]
  },
  {
   "cell_type": "markdown",
   "metadata": {},
   "source": [
    "# Import Libaray"
   ]
  },
  {
   "cell_type": "code",
   "execution_count": 3,
   "metadata": {},
   "outputs": [],
   "source": [
    "import numpy as np\n",
    "import torch\n",
    "import torch.nn as nn\n",
    "import torch.optim as optim\n",
    "import matplotlib.pyplot as plt\n",
    "import seaborn as sns\n",
    "from sklearn.datasets import load_iris\n",
    "from sklearn.model_selection import train_test_split\n",
    "from sklearn.preprocessing import OneHotEncoder, StandardScaler\n",
    "from sklearn.metrics import accuracy_score, precision_score, recall_score, f1_score, confusion_matrix\n",
    "import wandb\n",
    "\n"
   ]
  },
  {
   "cell_type": "markdown",
   "metadata": {},
   "source": [
    "# Setting up Dataset"
   ]
  },
  {
   "cell_type": "code",
   "execution_count": 4,
   "metadata": {},
   "outputs": [],
   "source": [
    "# Load dataset\n",
    "iris = load_iris()\n",
    "X = iris.data\n",
    "y = iris.target.reshape(-1, 1)  # Reshape for one-hot encoding\n",
    "\n",
    "# # Shuffle data\n",
    "# from sklearn.utils import shuffle\n",
    "# X, y = shuffle(X, y, random_state=42)\n",
    "\n",
    "# One-hot encoding\n",
    "ohe = OneHotEncoder(sparse_output=False)\n",
    "y_onehot = ohe.fit_transform(y)\n",
    "\n",
    "# Normalize features\n",
    "scaler = StandardScaler()\n",
    "X_scaled = scaler.fit_transform(X)\n",
    "\n",
    "# Split dataset\n",
    "X_train, X_test, y_train, y_test = train_test_split(X_scaled, y_onehot, test_size=0.2, random_state=42)\n",
    "X_train, X_val, y_train, y_val = train_test_split(X_scaled, y_onehot, test_size=0.1, random_state=42)\n",
    "\n",
    "# Convert to PyTorch tensors\n",
    "X_train = torch.tensor(X_train, dtype=torch.float32)\n",
    "X_test = torch.tensor(X_test, dtype=torch.float32)\n",
    "y_train = torch.tensor(y_train, dtype=torch.float32)\n",
    "y_test = torch.tensor(y_test, dtype=torch.float32)\n",
    "X_val = torch.tensor(X_val, dtype=torch.float32)\n",
    "y_val = torch.tensor(y_val, dtype=torch.float32)\n",
    "\n"
   ]
  },
  {
   "cell_type": "markdown",
   "metadata": {},
   "source": [
    "# Setting up Model"
   ]
  },
  {
   "cell_type": "code",
   "execution_count": 5,
   "metadata": {},
   "outputs": [],
   "source": [
    "# Define MLP model class\n",
    "class MLPModel(nn.Module):\n",
    "    def __init__(self, input_size, hidden_units, output_size):\n",
    "        super(MLPModel, self).__init__()\n",
    "        self.fc1 = nn.Linear(input_size, hidden_units)\n",
    "        self.relu = nn.ReLU()\n",
    "        self.fc2 = nn.Linear(hidden_units, output_size)\n",
    "    def forward(self, x):\n",
    "        x = self.fc1(x)\n",
    "        x = self.relu(x)\n",
    "        x = self.fc2(x)\n",
    "        \"\"\"Here we are not the softmax function as the activation function for the output layer.\n",
    "          beacsue we are using the cross entropy loss function which already has the softmax function implemented in it\"\"\"\n",
    "        return x\n",
    "\n",
    "# Instantiate the model, loss function, and optimizer\n",
    "model = MLPModel(input_size=4, hidden_units=16, output_size=3)\n",
    "criterion = nn.CrossEntropyLoss()\n",
    "optimizer = optim.Adam(model.parameters(), lr=0.001)"
   ]
  },
  {
   "cell_type": "markdown",
   "metadata": {},
   "source": [
    "# Setting up W&B"
   ]
  },
  {
   "cell_type": "code",
   "execution_count": 6,
   "metadata": {},
   "outputs": [
    {
     "name": "stderr",
     "output_type": "stream",
     "text": [
      "\u001b[34m\u001b[1mwandb\u001b[0m: Using wandb-core as the SDK backend.  Please refer to https://wandb.me/wandb-core for more information.\n",
      "\u001b[34m\u001b[1mwandb\u001b[0m: Currently logged in as: \u001b[33mparthivrpatel2005\u001b[0m (\u001b[33mparthivrpatel2005-indian-institute-of-technology-gandhinagar\u001b[0m) to \u001b[32mhttps://api.wandb.ai\u001b[0m. Use \u001b[1m`wandb login --relogin`\u001b[0m to force relogin\n"
     ]
    },
    {
     "data": {
      "text/html": [
       "creating run (0.5s)"
      ],
      "text/plain": [
       "<IPython.core.display.HTML object>"
      ]
     },
     "metadata": {},
     "output_type": "display_data"
    },
    {
     "data": {
      "text/html": [
       "Tracking run with wandb version 0.19.7"
      ],
      "text/plain": [
       "<IPython.core.display.HTML object>"
      ]
     },
     "metadata": {},
     "output_type": "display_data"
    },
    {
     "data": {
      "text/html": [
       "Run data is saved locally in <code>c:\\Users\\Parth\\OneDrive - iitgn.ac.in\\CS203_Lab_01-main\\New folder\\-CS-203-MLP-Model-Implementation-Experiment-Tracking-Hyperparameters\\wandb\\run-20250226_161612-nyp76vey</code>"
      ],
      "text/plain": [
       "<IPython.core.display.HTML object>"
      ]
     },
     "metadata": {},
     "output_type": "display_data"
    },
    {
     "data": {
      "text/html": [
       "Syncing run <strong><a href='https://wandb.ai/parthivrpatel2005-indian-institute-of-technology-gandhinagar/MLP-Classification/runs/nyp76vey' target=\"_blank\">MLP-Training-Run</a></strong> to <a href='https://wandb.ai/parthivrpatel2005-indian-institute-of-technology-gandhinagar/MLP-Classification' target=\"_blank\">Weights & Biases</a> (<a href='https://wandb.me/developer-guide' target=\"_blank\">docs</a>)<br>"
      ],
      "text/plain": [
       "<IPython.core.display.HTML object>"
      ]
     },
     "metadata": {},
     "output_type": "display_data"
    },
    {
     "data": {
      "text/html": [
       " View project at <a href='https://wandb.ai/parthivrpatel2005-indian-institute-of-technology-gandhinagar/MLP-Classification' target=\"_blank\">https://wandb.ai/parthivrpatel2005-indian-institute-of-technology-gandhinagar/MLP-Classification</a>"
      ],
      "text/plain": [
       "<IPython.core.display.HTML object>"
      ]
     },
     "metadata": {},
     "output_type": "display_data"
    },
    {
     "data": {
      "text/html": [
       " View run at <a href='https://wandb.ai/parthivrpatel2005-indian-institute-of-technology-gandhinagar/MLP-Classification/runs/nyp76vey' target=\"_blank\">https://wandb.ai/parthivrpatel2005-indian-institute-of-technology-gandhinagar/MLP-Classification/runs/nyp76vey</a>"
      ],
      "text/plain": [
       "<IPython.core.display.HTML object>"
      ]
     },
     "metadata": {},
     "output_type": "display_data"
    }
   ],
   "source": [
    "\n",
    "import wandb\n",
    "\n",
    "# Initialize Weights & Biases\n",
    "wandb.init(project=\"MLP-Classification\", name=\"MLP-Training-Run\")\n",
    "\n",
    "# Define hyperparameters\n",
    "config = {\n",
    "    \"input_size\": 4,\n",
    "    \"hidden_units\": 16,\n",
    "    \"output_size\": 3,\n",
    "    \"weight_init\": \"xavier\",\n",
    "    \"bias_init\": \"zeros\",\n",
    "    \"activation\": \"ReLU\",\n",
    "    \"loss_function\": \"CrossEntropyLoss\",\n",
    "    \"optimizer\": \"Adam\",\n",
    "    \"learning_rate\": 0.001,\n",
    "    \"batch_size\": 32,\n",
    "    \"epochs\": 50\n",
    "}\n",
    "\n",
    "# Log hyperparameters to W&B\n",
    "wandb.config.update(config)\n",
    "\n",
    "# Watch model for gradient tracking\n",
    "wandb.watch(model, log=\"all\")\n"
   ]
  },
  {
   "cell_type": "markdown",
   "metadata": {},
   "source": [
    "# Training The Model"
   ]
  },
  {
   "cell_type": "code",
   "execution_count": 7,
   "metadata": {},
   "outputs": [
    {
     "name": "stdout",
     "output_type": "stream",
     "text": [
      "Epoch 1: train_loss=5.6155, val_loss=1.1181\n",
      "Epoch 2: train_loss=5.5319, val_loss=1.0990\n",
      "Epoch 3: train_loss=5.5968, val_loss=1.0804\n",
      "Epoch 4: train_loss=5.3565, val_loss=1.0622\n",
      "Epoch 5: train_loss=5.2953, val_loss=1.0438\n",
      "Epoch 6: train_loss=5.1395, val_loss=1.0254\n",
      "Epoch 7: train_loss=5.0556, val_loss=1.0068\n",
      "Epoch 8: train_loss=4.9874, val_loss=0.9878\n",
      "Epoch 9: train_loss=4.9235, val_loss=0.9687\n",
      "Epoch 10: train_loss=4.9343, val_loss=0.9493\n",
      "Epoch 11: train_loss=4.7008, val_loss=0.9298\n",
      "Epoch 12: train_loss=4.5695, val_loss=0.9099\n",
      "Epoch 13: train_loss=4.5698, val_loss=0.8898\n",
      "Epoch 14: train_loss=4.4378, val_loss=0.8691\n",
      "Epoch 15: train_loss=4.2746, val_loss=0.8475\n",
      "Epoch 16: train_loss=4.1899, val_loss=0.8252\n",
      "Epoch 17: train_loss=4.2904, val_loss=0.8029\n",
      "Epoch 18: train_loss=4.1664, val_loss=0.7809\n",
      "Epoch 19: train_loss=3.8193, val_loss=0.7593\n",
      "Epoch 20: train_loss=3.8905, val_loss=0.7374\n",
      "Epoch 21: train_loss=3.6385, val_loss=0.7159\n",
      "Epoch 22: train_loss=3.6663, val_loss=0.6950\n",
      "Epoch 23: train_loss=3.5465, val_loss=0.6748\n",
      "Epoch 24: train_loss=3.5702, val_loss=0.6554\n",
      "Epoch 25: train_loss=3.3426, val_loss=0.6369\n",
      "Epoch 26: train_loss=3.2954, val_loss=0.6190\n",
      "Epoch 27: train_loss=2.9534, val_loss=0.6018\n",
      "Epoch 28: train_loss=2.9593, val_loss=0.5851\n",
      "Epoch 29: train_loss=2.9463, val_loss=0.5695\n",
      "Epoch 30: train_loss=2.9390, val_loss=0.5549\n",
      "Epoch 31: train_loss=2.8052, val_loss=0.5412\n",
      "Epoch 32: train_loss=2.8602, val_loss=0.5281\n",
      "Epoch 33: train_loss=2.8704, val_loss=0.5158\n",
      "Epoch 34: train_loss=2.8184, val_loss=0.5041\n",
      "Epoch 35: train_loss=2.6699, val_loss=0.4930\n",
      "Epoch 36: train_loss=2.6109, val_loss=0.4828\n",
      "Epoch 37: train_loss=2.5663, val_loss=0.4730\n",
      "Epoch 38: train_loss=2.7035, val_loss=0.4632\n",
      "Epoch 39: train_loss=2.3775, val_loss=0.4541\n",
      "Epoch 40: train_loss=2.4269, val_loss=0.4457\n",
      "Epoch 41: train_loss=2.2994, val_loss=0.4375\n",
      "Epoch 42: train_loss=2.5017, val_loss=0.4299\n",
      "Epoch 43: train_loss=2.2634, val_loss=0.4223\n",
      "Epoch 44: train_loss=2.3535, val_loss=0.4150\n",
      "Epoch 45: train_loss=2.2226, val_loss=0.4080\n",
      "Epoch 46: train_loss=2.3384, val_loss=0.4013\n",
      "Epoch 47: train_loss=2.2099, val_loss=0.3949\n",
      "Epoch 48: train_loss=2.1429, val_loss=0.3887\n",
      "Epoch 49: train_loss=2.1896, val_loss=0.3826\n",
      "Epoch 50: train_loss=2.0726, val_loss=0.3764\n"
     ]
    }
   ],
   "source": [
    "import torch\n",
    "from torch.utils.data import DataLoader, TensorDataset\n",
    "\n",
    "# Define DataLoader for batching\n",
    "train_dataset = TensorDataset(X_train, y_train)\n",
    "train_loader = DataLoader(train_dataset, batch_size=32, shuffle=True)\n",
    "\n",
    "val_dataset = TensorDataset(X_test, y_test)\n",
    "val_loader = DataLoader(val_dataset, batch_size=32, shuffle=False)\n",
    "\n",
    "# Updated Training Function\n",
    "def train_model(model, train_loader, val_loader, epochs=50):\n",
    "    train_losses = []\n",
    "    val_losses = []\n",
    "    \n",
    "    for epoch in range(epochs):\n",
    "        model.train()\n",
    "        total_train_loss = 0\n",
    "        \n",
    "        for X_batch, y_batch in train_loader:\n",
    "            optimizer.zero_grad()\n",
    "            outputs = model(X_batch)\n",
    "            loss = criterion(outputs, torch.max(y_batch, 1)[1])\n",
    "            loss.backward()\n",
    "            optimizer.step()\n",
    "            \n",
    "            total_train_loss += loss.item()  # Summing batch losses\n",
    "        \n",
    "        train_losses.append(total_train_loss)\n",
    "\n",
    "        # Validation\n",
    "        model.eval()\n",
    "        total_val_loss = 0\n",
    "        with torch.no_grad():\n",
    "            for X_batch, y_batch in val_loader:\n",
    "                val_outputs = model(X_batch)\n",
    "                val_loss = criterion(val_outputs, torch.max(y_batch, 1)[1])\n",
    "                total_val_loss += val_loss.item()  # Summing batch losses\n",
    "        \n",
    "        val_losses.append(total_val_loss)\n",
    "        \n",
    "        # Log losses\n",
    "        wandb.log({\"train_loss\": total_train_loss, \"val_loss\": total_val_loss})\n",
    "        print(f\"Epoch {epoch+1}: train_loss={total_train_loss:.4f}, val_loss={total_val_loss:.4f}\")\n",
    "    \n",
    "    return train_losses, val_losses\n",
    "\n",
    "# Train model\n",
    "train_losses, val_losses = train_model(model, train_loader, val_loader, epochs=50)\n"
   ]
  },
  {
   "cell_type": "markdown",
   "metadata": {},
   "source": [
    "# Evaluation of Model"
   ]
  },
  {
   "cell_type": "code",
   "execution_count": 8,
   "metadata": {},
   "outputs": [
    {
     "name": "stdout",
     "output_type": "stream",
     "text": [
      "Training complete. Metrics logged to W&B.\n"
     ]
    },
    {
     "data": {
      "image/png": "[encoded data removed]",
      "text/plain": [
       "<Figure size 600x500 with 2 Axes>"
      ]
     },
     "metadata": {},
     "output_type": "display_data"
    },
    {
     "data": {
      "image/png": "[encoded data removed]",
      "text/plain": [
       "<Figure size 640x480 with 1 Axes>"
      ]
     },
     "metadata": {},
     "output_type": "display_data"
    }
   ],
   "source": [
    "\n",
    "# Evaluate model\n",
    "def evaluate_model(model, X_test, y_test):\n",
    "    with torch.no_grad():\n",
    "        y_pred = model(X_test)\n",
    "        y_pred_classes = torch.argmax(y_pred, axis=1).numpy()\n",
    "        y_true_classes = torch.argmax(y_test, axis=1).numpy()\n",
    "    \n",
    "    accuracy = accuracy_score(y_true_classes, y_pred_classes)\n",
    "    precision = precision_score(y_true_classes, y_pred_classes, average='weighted')\n",
    "    recall = recall_score(y_true_classes, y_pred_classes, average='weighted')\n",
    "    f1 = f1_score(y_true_classes, y_pred_classes, average='weighted')\n",
    "    \n",
    "    return accuracy, precision, recall, f1, y_true_classes, y_pred_classes\n",
    "\n",
    "accuracy, precision, recall, f1, y_true_classes, y_pred_classes = evaluate_model(model, X_test, y_test)\n",
    "\n",
    "# Confusion matrix\n",
    "cm = confusion_matrix(y_true_classes, y_pred_classes)\n",
    "plt.figure(figsize=(6, 5))\n",
    "sns.heatmap(cm, annot=True, fmt='d', cmap='Blues', xticklabels=iris.target_names, yticklabels=iris.target_names)\n",
    "plt.xlabel(\"Predicted\")\n",
    "plt.ylabel(\"Actual\")\n",
    "plt.title(\"Confusion Matrix\")\n",
    "plt.savefig(\"confusion_matrix.png\")\n",
    "\n",
    "\n",
    "# Plot training history\n",
    "plt.figure()\n",
    "plt.plot(train_losses, label='Training Loss')\n",
    "plt.plot(val_losses, label=\"Validation Loss\")\n",
    "# plot val losses along with red marker\n",
    "\n",
    "plt.xlabel(\"Epochs\")\n",
    "plt.ylabel(\"Loss\")\n",
    "plt.legend()\n",
    "plt.title(\"Training and Validation Loss\")\n",
    "plt.savefig(\"loss_curve.png\")\n",
    "\n",
    "# Log metrics to W&B\n",
    "wandb.log({\n",
    "    \"accuracy\": accuracy,\n",
    "    \"precision\": precision,\n",
    "    \"recall\": recall,\n",
    "    \"f1_score\": f1,\n",
    "    \"loss_curve\": wandb.Image(\"loss_curve.png\"),\n",
    "    \"confusion_matrix\": wandb.Image(\"confusion_matrix.png\")\n",
    "})\n",
    "\n",
    "\n",
    "print(\"Training complete. Metrics logged to W&B.\")"
   ]
  },
  {
   "cell_type": "code",
   "execution_count": 9,
   "metadata": {},
   "outputs": [
    {
     "name": "stdout",
     "output_type": "stream",
     "text": [
      "0.8333333333333334 0.8854166666666666 0.8333333333333334 0.8167141500474834\n"
     ]
    }
   ],
   "source": [
    "print(accuracy, precision, recall, f1,)"
   ]
  }
 ],
 "metadata": {
  "kernelspec": {
   "display_name": "Python 3",
   "language": "python",
   "name": "python3"
  },
  "language_info": {
   "codemirror_mode": {
    "name": "ipython",
    "version": 3
   },
   "file_extension": ".py",
   "mimetype": "text/x-python",
   "name": "python",
   "nbconvert_exporter": "python",
   "pygments_lexer": "ipython3",
   "version": "3.10.11"
  }
 },
 "nbformat": 4,
 "nbformat_minor": 2
}
