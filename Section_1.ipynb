{
 "cells": [
  {
   "cell_type": "markdown",
   "metadata": {},
   "source": [
    "# Importing Library "
   ]
  },
  {
   "cell_type": "code",
   "execution_count": 1,
   "metadata": {},
   "outputs": [
    {
     "name": "stdout",
     "output_type": "stream",
     "text": [
      "Defaulting to user installation because normal site-packages is not writeable\n",
      "Requirement already satisfied: wandb in c:\\users\\parth\\appdata\\roaming\\python\\python310\\site-packages (0.19.7)\n",
      "Requirement already satisfied: click!=8.0.0,>=7.1 in c:\\users\\parth\\appdata\\roaming\\python\\python310\\site-packages (from wandb) (8.1.8)\n",
      "Requirement already satisfied: docker-pycreds>=0.4.0 in c:\\users\\parth\\appdata\\roaming\\python\\python310\\site-packages (from wandb) (0.4.0)\n",
      "Requirement already satisfied: platformdirs in c:\\users\\parth\\appdata\\roaming\\python\\python310\\site-packages (from wandb) (4.3.3)\n",
      "Requirement already satisfied: psutil>=5.0.0 in c:\\users\\parth\\appdata\\roaming\\python\\python310\\site-packages (from wandb) (6.0.0)\n",
      "Requirement already satisfied: requests<3,>=2.0.0 in c:\\users\\parth\\appdata\\roaming\\python\\python310\\site-packages (from wandb) (2.32.3)\n",
      "Requirement already satisfied: sentry-sdk>=2.0.0 in c:\\users\\parth\\appdata\\roaming\\python\\python310\\site-packages (from wandb) (2.22.0)\n",
      "Requirement already satisfied: pydantic<3,>=2.6 in c:\\users\\parth\\appdata\\roaming\\python\\python310\\site-packages (from wandb) (2.10.6)\n",
      "Requirement already satisfied: setuptools in c:\\program files\\python310\\lib\\site-packages (from wandb) (65.5.0)\n",
      "Requirement already satisfied: protobuf!=4.21.0,!=5.28.0,<6,>=3.19.0 in c:\\users\\parth\\appdata\\roaming\\python\\python310\\site-packages (from wandb) (5.29.3)\n",
      "Requirement already satisfied: pyyaml in c:\\users\\parth\\appdata\\roaming\\python\\python310\\site-packages (from wandb) (6.0.2)\n",
      "Requirement already satisfied: setproctitle in c:\\users\\parth\\appdata\\roaming\\python\\python310\\site-packages (from wandb) (1.3.5)\n",
      "Requirement already satisfied: gitpython!=3.1.29,>=1.0.0 in c:\\users\\parth\\appdata\\roaming\\python\\python310\\site-packages (from wandb) (3.1.44)\n",
      "Requirement already satisfied: typing-extensions<5,>=4.4 in c:\\users\\parth\\appdata\\roaming\\python\\python310\\site-packages (from wandb) (4.12.2)\n",
      "Requirement already satisfied: colorama in c:\\users\\parth\\appdata\\roaming\\python\\python310\\site-packages (from click!=8.0.0,>=7.1->wandb) (0.4.6)\n",
      "Requirement already satisfied: six>=1.4.0 in c:\\users\\parth\\appdata\\roaming\\python\\python310\\site-packages (from docker-pycreds>=0.4.0->wandb) (1.16.0)\n",
      "Requirement already satisfied: gitdb<5,>=4.0.1 in c:\\users\\parth\\appdata\\roaming\\python\\python310\\site-packages (from gitpython!=3.1.29,>=1.0.0->wandb) (4.0.12)\n",
      "Requirement already satisfied: annotated-types>=0.6.0 in c:\\users\\parth\\appdata\\roaming\\python\\python310\\site-packages (from pydantic<3,>=2.6->wandb) (0.7.0)\n",
      "Requirement already satisfied: pydantic-core==2.27.2 in c:\\users\\parth\\appdata\\roaming\\python\\python310\\site-packages (from pydantic<3,>=2.6->wandb) (2.27.2)\n",
      "Requirement already satisfied: idna<4,>=2.5 in c:\\users\\parth\\appdata\\roaming\\python\\python310\\site-packages (from requests<3,>=2.0.0->wandb) (3.10)\n",
      "Requirement already satisfied: urllib3<3,>=1.21.1 in c:\\users\\parth\\appdata\\roaming\\python\\python310\\site-packages (from requests<3,>=2.0.0->wandb) (2.3.0)\n",
      "Requirement already satisfied: certifi>=2017.4.17 in c:\\users\\parth\\appdata\\roaming\\python\\python310\\site-packages (from requests<3,>=2.0.0->wandb) (2025.1.31)\n",
      "Requirement already satisfied: charset-normalizer<4,>=2 in c:\\users\\parth\\appdata\\roaming\\python\\python310\\site-packages (from requests<3,>=2.0.0->wandb) (3.4.1)\n",
      "Requirement already satisfied: smmap<6,>=3.0.1 in c:\\users\\parth\\appdata\\roaming\\python\\python310\\site-packages (from gitdb<5,>=4.0.1->gitpython!=3.1.29,>=1.0.0->wandb) (5.0.2)\n"
     ]
    },
    {
     "name": "stderr",
     "output_type": "stream",
     "text": [
      "\n",
      "[notice] A new release of pip is available: 23.0.1 -> 25.0.1\n",
      "[notice] To update, run: python.exe -m pip install --upgrade pip\n"
     ]
    },
    {
     "name": "stdout",
     "output_type": "stream",
     "text": [
      "Defaulting to user installation because normal site-packages is not writeable\n",
      "Requirement already satisfied: seaborn in c:\\users\\parth\\appdata\\roaming\\python\\python310\\site-packages (0.13.2)\n",
      "Requirement already satisfied: pandas>=1.2 in c:\\users\\parth\\appdata\\roaming\\python\\python310\\site-packages (from seaborn) (2.2.3)\n",
      "Requirement already satisfied: numpy!=1.24.0,>=1.20 in c:\\users\\parth\\appdata\\roaming\\python\\python310\\site-packages (from seaborn) (1.26.4)\n",
      "Requirement already satisfied: matplotlib!=3.6.1,>=3.4 in c:\\users\\parth\\appdata\\roaming\\python\\python310\\site-packages (from seaborn) (3.10.0)\n",
      "Requirement already satisfied: cycler>=0.10 in c:\\users\\parth\\appdata\\roaming\\python\\python310\\site-packages (from matplotlib!=3.6.1,>=3.4->seaborn) (0.12.1)\n",
      "Requirement already satisfied: python-dateutil>=2.7 in c:\\users\\parth\\appdata\\roaming\\python\\python310\\site-packages (from matplotlib!=3.6.1,>=3.4->seaborn) (2.9.0.post0)\n",
      "Requirement already satisfied: fonttools>=4.22.0 in c:\\users\\parth\\appdata\\roaming\\python\\python310\\site-packages (from matplotlib!=3.6.1,>=3.4->seaborn) (4.56.0)\n",
      "Requirement already satisfied: contourpy>=1.0.1 in c:\\users\\parth\\appdata\\roaming\\python\\python310\\site-packages (from matplotlib!=3.6.1,>=3.4->seaborn) (1.3.1)\n",
      "Requirement already satisfied: packaging>=20.0 in c:\\users\\parth\\appdata\\roaming\\python\\python310\\site-packages (from matplotlib!=3.6.1,>=3.4->seaborn) (24.1)\n",
      "Requirement already satisfied: pillow>=8 in c:\\users\\parth\\appdata\\roaming\\python\\python310\\site-packages (from matplotlib!=3.6.1,>=3.4->seaborn) (11.1.0)\n",
      "Requirement already satisfied: pyparsing>=2.3.1 in c:\\users\\parth\\appdata\\roaming\\python\\python310\\site-packages (from matplotlib!=3.6.1,>=3.4->seaborn) (3.2.1)\n",
      "Requirement already satisfied: kiwisolver>=1.3.1 in c:\\users\\parth\\appdata\\roaming\\python\\python310\\site-packages (from matplotlib!=3.6.1,>=3.4->seaborn) (1.4.8)\n",
      "Requirement already satisfied: tzdata>=2022.7 in c:\\users\\parth\\appdata\\roaming\\python\\python310\\site-packages (from pandas>=1.2->seaborn) (2025.1)\n",
      "Requirement already satisfied: pytz>=2020.1 in c:\\users\\parth\\appdata\\roaming\\python\\python310\\site-packages (from pandas>=1.2->seaborn) (2025.1)\n",
      "Requirement already satisfied: six>=1.5 in c:\\users\\parth\\appdata\\roaming\\python\\python310\\site-packages (from python-dateutil>=2.7->matplotlib!=3.6.1,>=3.4->seaborn) (1.16.0)\n"
     ]
    },
    {
     "name": "stderr",
     "output_type": "stream",
     "text": [
      "\n",
      "[notice] A new release of pip is available: 23.0.1 -> 25.0.1\n",
      "[notice] To update, run: python.exe -m pip install --upgrade pip\n"
     ]
    }
   ],
   "source": [
    "!pip install wandb\n",
    "!pip install seaborn"
   ]
  },
  {
   "cell_type": "code",
   "execution_count": 2,
   "metadata": {},
   "outputs": [
    {
     "name": "stdout",
     "output_type": "stream",
     "text": [
      "Defaulting to user installation because normal site-packages is not writeable\n"
     ]
    },
    {
     "name": "stderr",
     "output_type": "stream",
     "text": [
      "ERROR: Could not find a version that satisfies the requirement distutils (from versions: none)\n",
      "ERROR: No matching distribution found for distutils\n",
      "\n",
      "[notice] A new release of pip is available: 23.0.1 -> 25.0.1\n",
      "[notice] To update, run: python.exe -m pip install --upgrade pip\n"
     ]
    }
   ],
   "source": [
    "!pip install distutils\n",
    "\n",
    "# restart the kernal now for py3.13"
   ]
  },
  {
   "cell_type": "code",
   "execution_count": 3,
   "metadata": {},
   "outputs": [
    {
     "name": "stderr",
     "output_type": "stream",
     "text": [
      "\u001b[34m\u001b[1mwandb\u001b[0m: Using wandb-core as the SDK backend.  Please refer to https://wandb.me/wandb-core for more information.\n",
      "\u001b[34m\u001b[1mwandb\u001b[0m: Currently logged in as: \u001b[33mparthivrpatel2005\u001b[0m (\u001b[33mparthivrpatel2005-indian-institute-of-technology-gandhinagar\u001b[0m) to \u001b[32mhttps://api.wandb.ai\u001b[0m. Use \u001b[1m`wandb login --relogin`\u001b[0m to force relogin\n"
     ]
    },
    {
     "data": {
      "text/html": [
       "Tracking run with wandb version 0.19.7"
      ],
      "text/plain": [
       "<IPython.core.display.HTML object>"
      ]
     },
     "metadata": {},
     "output_type": "display_data"
    },
    {
     "data": {
      "text/html": [
       "Run data is saved locally in <code>c:\\Users\\Parth\\OneDrive - iitgn.ac.in\\CS203_Lab_01-main\\New folder\\-CS-203-MLP-Model-Implementation-Experiment-Tracking-Hyperparameters\\wandb\\run-20250224_231621-5uogg7fy</code>"
      ],
      "text/plain": [
       "<IPython.core.display.HTML object>"
      ]
     },
     "metadata": {},
     "output_type": "display_data"
    },
    {
     "data": {
      "text/html": [
       "Syncing run <strong><a href='https://wandb.ai/parthivrpatel2005-indian-institute-of-technology-gandhinagar/mlp-iris-experiment/runs/5uogg7fy' target=\"_blank\">frosty-dew-6</a></strong> to <a href='https://wandb.ai/parthivrpatel2005-indian-institute-of-technology-gandhinagar/mlp-iris-experiment' target=\"_blank\">Weights & Biases</a> (<a href='https://wandb.me/developer-guide' target=\"_blank\">docs</a>)<br>"
      ],
      "text/plain": [
       "<IPython.core.display.HTML object>"
      ]
     },
     "metadata": {},
     "output_type": "display_data"
    },
    {
     "data": {
      "text/html": [
       " View project at <a href='https://wandb.ai/parthivrpatel2005-indian-institute-of-technology-gandhinagar/mlp-iris-experiment' target=\"_blank\">https://wandb.ai/parthivrpatel2005-indian-institute-of-technology-gandhinagar/mlp-iris-experiment</a>"
      ],
      "text/plain": [
       "<IPython.core.display.HTML object>"
      ]
     },
     "metadata": {},
     "output_type": "display_data"
    },
    {
     "data": {
      "text/html": [
       " View run at <a href='https://wandb.ai/parthivrpatel2005-indian-institute-of-technology-gandhinagar/mlp-iris-experiment/runs/5uogg7fy' target=\"_blank\">https://wandb.ai/parthivrpatel2005-indian-institute-of-technology-gandhinagar/mlp-iris-experiment/runs/5uogg7fy</a>"
      ],
      "text/plain": [
       "<IPython.core.display.HTML object>"
      ]
     },
     "metadata": {},
     "output_type": "display_data"
    },
    {
     "data": {
      "text/html": [
       "<button onClick=\"this.nextSibling.style.display='block';this.style.display='none';\">Display W&B run</button><iframe src='https://wandb.ai/parthivrpatel2005-indian-institute-of-technology-gandhinagar/mlp-iris-experiment/runs/5uogg7fy?jupyter=true' style='border:none;width:100%;height:420px;display:none;'></iframe>"
      ],
      "text/plain": [
       "<wandb.sdk.wandb_run.Run at 0x1b6bb148790>"
      ]
     },
     "execution_count": 3,
     "metadata": {},
     "output_type": "execute_result"
    }
   ],
   "source": [
    "import numpy as np\n",
    "import torch\n",
    "import torch.nn as nn\n",
    "import torch.optim as optim\n",
    "import matplotlib.pyplot as plt\n",
    "import seaborn as sns\n",
    "from sklearn.datasets import load_iris\n",
    "from sklearn.model_selection import train_test_split\n",
    "from sklearn.preprocessing import OneHotEncoder, StandardScaler\n",
    "from sklearn.metrics import accuracy_score, precision_score, recall_score, f1_score, confusion_matrix\n",
    "import wandb\n",
    "\n",
    "# Initialize W&B\n",
    "wandb.init(project=\"mlp-iris-experiment\")"
   ]
  },
  {
   "cell_type": "markdown",
   "metadata": {},
   "source": [
    "# Setting up Dataset"
   ]
  },
  {
   "cell_type": "code",
   "execution_count": 4,
   "metadata": {},
   "outputs": [],
   "source": [
    "# Load dataset\n",
    "iris = load_iris()\n",
    "X = iris.data\n",
    "y = iris.target.reshape(-1, 1)  # Reshape for one-hot encoding\n",
    "\n",
    "# # Shuffle data\n",
    "# from sklearn.utils import shuffle\n",
    "# X, y = shuffle(X, y, random_state=42)\n",
    "\n",
    "# One-hot encoding\n",
    "ohe = OneHotEncoder(sparse_output=False)\n",
    "y_onehot = ohe.fit_transform(y)\n",
    "\n",
    "# Normalize features\n",
    "scaler = StandardScaler()\n",
    "X_scaled = scaler.fit_transform(X)\n",
    "\n",
    "# Split dataset\n",
    "X_train, X_test, y_train, y_test = train_test_split(X_scaled, y_onehot, test_size=0.2, random_state=42)\n",
    "X_train, X_val, y_train, y_val = train_test_split(X_scaled, y_onehot, test_size=0.1, random_state=42)\n",
    "\n",
    "# Convert to PyTorch tensors\n",
    "X_train = torch.tensor(X_train, dtype=torch.float32)\n",
    "X_test = torch.tensor(X_test, dtype=torch.float32)\n",
    "y_train = torch.tensor(y_train, dtype=torch.float32)\n",
    "y_test = torch.tensor(y_test, dtype=torch.float32)\n",
    "X_val = torch.tensor(X_val, dtype=torch.float32)\n",
    "y_val = torch.tensor(y_val, dtype=torch.float32)\n",
    "\n"
   ]
  },
  {
   "cell_type": "markdown",
   "metadata": {},
   "source": [
    "# Setiing up Model"
   ]
  },
  {
   "cell_type": "code",
   "execution_count": 5,
   "metadata": {},
   "outputs": [],
   "source": [
    "# Define MLP model class\n",
    "class MLPModel(nn.Module):\n",
    "    def __init__(self, input_size, hidden_units, output_size):\n",
    "        super(MLPModel, self).__init__()\n",
    "        self.fc1 = nn.Linear(input_size, hidden_units)\n",
    "        self.relu = nn.ReLU()\n",
    "        self.fc2 = nn.Linear(hidden_units, output_size)\n",
    "    def forward(self, x):\n",
    "        x = self.fc1(x)\n",
    "        x = self.relu(x)\n",
    "        x = self.fc2(x)\n",
    "        return x\n",
    "\n",
    "# Instantiate the model, loss function, and optimizer\n",
    "model = MLPModel(input_size=4, hidden_units=16, output_size=3)\n",
    "criterion = nn.CrossEntropyLoss()\n",
    "optimizer = optim.Adam(model.parameters(), lr=0.001)"
   ]
  },
  {
   "cell_type": "markdown",
   "metadata": {},
   "source": [
    "# Training The Model"
   ]
  },
  {
   "cell_type": "code",
   "execution_count": 6,
   "metadata": {},
   "outputs": [
    {
     "name": "stdout",
     "output_type": "stream",
     "text": [
      "Epoch 1: train_loss=5.9903, val_loss=1.1954\n",
      "Epoch 2: train_loss=5.8133, val_loss=1.1683\n",
      "Epoch 3: train_loss=5.7222, val_loss=1.1419\n",
      "Epoch 4: train_loss=5.6303, val_loss=1.1157\n",
      "Epoch 5: train_loss=5.5282, val_loss=1.0896\n",
      "Epoch 6: train_loss=5.3667, val_loss=1.0635\n",
      "Epoch 7: train_loss=5.3599, val_loss=1.0385\n",
      "Epoch 8: train_loss=5.2239, val_loss=1.0137\n",
      "Epoch 9: train_loss=5.0787, val_loss=0.9884\n",
      "Epoch 10: train_loss=4.8696, val_loss=0.9640\n",
      "Epoch 11: train_loss=4.7970, val_loss=0.9401\n",
      "Epoch 12: train_loss=4.7827, val_loss=0.9171\n",
      "Epoch 13: train_loss=4.5404, val_loss=0.8942\n",
      "Epoch 14: train_loss=4.4167, val_loss=0.8706\n",
      "Epoch 15: train_loss=4.3083, val_loss=0.8474\n",
      "Epoch 16: train_loss=4.2161, val_loss=0.8248\n",
      "Epoch 17: train_loss=4.1681, val_loss=0.8030\n",
      "Epoch 18: train_loss=4.1218, val_loss=0.7803\n",
      "Epoch 19: train_loss=3.9463, val_loss=0.7583\n",
      "Epoch 20: train_loss=3.9198, val_loss=0.7366\n",
      "Epoch 21: train_loss=3.6834, val_loss=0.7151\n",
      "Epoch 22: train_loss=3.7114, val_loss=0.6933\n",
      "Epoch 23: train_loss=3.4933, val_loss=0.6729\n",
      "Epoch 24: train_loss=3.3550, val_loss=0.6523\n",
      "Epoch 25: train_loss=3.3412, val_loss=0.6327\n",
      "Epoch 26: train_loss=3.1773, val_loss=0.6135\n",
      "Epoch 27: train_loss=3.1383, val_loss=0.5951\n",
      "Epoch 28: train_loss=3.1277, val_loss=0.5772\n",
      "Epoch 29: train_loss=2.8961, val_loss=0.5603\n",
      "Epoch 30: train_loss=2.9595, val_loss=0.5441\n",
      "Epoch 31: train_loss=2.7503, val_loss=0.5283\n",
      "Epoch 32: train_loss=2.7315, val_loss=0.5132\n",
      "Epoch 33: train_loss=2.8141, val_loss=0.4992\n",
      "Epoch 34: train_loss=2.6477, val_loss=0.4858\n",
      "Epoch 35: train_loss=2.4315, val_loss=0.4731\n",
      "Epoch 36: train_loss=2.4571, val_loss=0.4607\n",
      "Epoch 37: train_loss=2.3356, val_loss=0.4491\n",
      "Epoch 38: train_loss=2.3852, val_loss=0.4380\n",
      "Epoch 39: train_loss=2.2618, val_loss=0.4275\n",
      "Epoch 40: train_loss=2.2920, val_loss=0.4176\n",
      "Epoch 41: train_loss=2.3176, val_loss=0.4078\n",
      "Epoch 42: train_loss=2.2555, val_loss=0.3983\n",
      "Epoch 43: train_loss=2.1003, val_loss=0.3894\n",
      "Epoch 44: train_loss=2.0431, val_loss=0.3807\n",
      "Epoch 45: train_loss=2.0276, val_loss=0.3725\n",
      "Epoch 46: train_loss=2.0329, val_loss=0.3647\n",
      "Epoch 47: train_loss=2.0005, val_loss=0.3571\n",
      "Epoch 48: train_loss=1.8734, val_loss=0.3495\n",
      "Epoch 49: train_loss=1.7996, val_loss=0.3423\n",
      "Epoch 50: train_loss=2.0057, val_loss=0.3354\n"
     ]
    }
   ],
   "source": [
    "import torch\n",
    "from torch.utils.data import DataLoader, TensorDataset\n",
    "\n",
    "# Define DataLoader for batching\n",
    "train_dataset = TensorDataset(X_train, y_train)\n",
    "train_loader = DataLoader(train_dataset, batch_size=32, shuffle=True)\n",
    "\n",
    "val_dataset = TensorDataset(X_test, y_test)\n",
    "val_loader = DataLoader(val_dataset, batch_size=32, shuffle=False)\n",
    "\n",
    "# Updated Training Function\n",
    "def train_model(model, train_loader, val_loader, epochs=50):\n",
    "    train_losses = []\n",
    "    val_losses = []\n",
    "    \n",
    "    for epoch in range(epochs):\n",
    "        model.train()\n",
    "        total_train_loss = 0\n",
    "        \n",
    "        for X_batch, y_batch in train_loader:\n",
    "            optimizer.zero_grad()\n",
    "            outputs = model(X_batch)\n",
    "            loss = criterion(outputs, torch.max(y_batch, 1)[1])\n",
    "            loss.backward()\n",
    "            optimizer.step()\n",
    "            \n",
    "            total_train_loss += loss.item()  # Summing batch losses\n",
    "        \n",
    "        train_losses.append(total_train_loss)\n",
    "\n",
    "        # Validation\n",
    "        model.eval()\n",
    "        total_val_loss = 0\n",
    "        with torch.no_grad():\n",
    "            for X_batch, y_batch in val_loader:\n",
    "                val_outputs = model(X_batch)\n",
    "                val_loss = criterion(val_outputs, torch.max(y_batch, 1)[1])\n",
    "                total_val_loss += val_loss.item()  # Summing batch losses\n",
    "        \n",
    "        val_losses.append(total_val_loss)\n",
    "        \n",
    "        # Log losses\n",
    "        wandb.log({\"train_loss\": total_train_loss, \"val_loss\": total_val_loss})\n",
    "        print(f\"Epoch {epoch+1}: train_loss={total_train_loss:.4f}, val_loss={total_val_loss:.4f}\")\n",
    "    \n",
    "    return train_losses, val_losses\n",
    "\n",
    "# Train model\n",
    "train_losses, val_losses = train_model(model, train_loader, val_loader, epochs=50)\n"
   ]
  },
  {
   "cell_type": "code",
   "execution_count": null,
   "metadata": {},
   "outputs": [
    {
     "name": "stdout",
     "output_type": "stream",
     "text": [
      "Training complete. Metrics logged to W&B.\n"
     ]
    },
    {
     "data": {
      "image/png": "[encoded data removed]",
      "text/plain": [
       "<Figure size 600x500 with 2 Axes>"
      ]
     },
     "metadata": {},
     "output_type": "display_data"
    },
    {
     "data": {
      "image/png": "[encoded data removed]",
      "text/plain": [
       "<Figure size 640x480 with 1 Axes>"
      ]
     },
     "metadata": {},
     "output_type": "display_data"
    }
   ],
   "source": [
    "\n",
    "# Evaluate model\n",
    "def evaluate_model(model, X_test, y_test):\n",
    "    with torch.no_grad():\n",
    "        y_pred = model(X_test)\n",
    "        y_pred_classes = torch.argmax(y_pred, axis=1).numpy()\n",
    "        y_true_classes = torch.argmax(y_test, axis=1).numpy()\n",
    "    \n",
    "    accuracy = accuracy_score(y_true_classes, y_pred_classes)\n",
    "    precision = precision_score(y_true_classes, y_pred_classes, average='weighted')\n",
    "    recall = recall_score(y_true_classes, y_pred_classes, average='weighted')\n",
    "    f1 = f1_score(y_true_classes, y_pred_classes, average='weighted')\n",
    "    \n",
    "    return accuracy, precision, recall, f1, y_true_classes, y_pred_classes\n",
    "\n",
    "accuracy, precision, recall, f1, y_true_classes, y_pred_classes = evaluate_model(model, X_test, y_test)\n",
    "\n",
    "# Confusion matrix\n",
    "cm = confusion_matrix(y_true_classes, y_pred_classes)\n",
    "plt.figure(figsize=(6, 5))\n",
    "sns.heatmap(cm, annot=True, fmt='d', cmap='Blues', xticklabels=iris.target_names, yticklabels=iris.target_names)\n",
    "plt.xlabel(\"Predicted\")\n",
    "plt.ylabel(\"Actual\")\n",
    "plt.title(\"Confusion Matrix\")\n",
    "plt.savefig(\"confusion_matrix.png\")\n",
    "\n",
    "\n",
    "# Plot training history\n",
    "plt.figure()\n",
    "plt.plot(train_losses, label='Training Loss')\n",
    "plt.plot(val_losses, label=\"Validation Loss\")\n",
    "# plot val losses along with red marker\n",
    "\n",
    "plt.xlabel(\"Epochs\")\n",
    "plt.ylabel(\"Loss\")\n",
    "plt.legend()\n",
    "plt.title(\"Training and Validation Loss\")\n",
    "plt.savefig(\"loss_curve.png\")\n",
    "\n",
    "# Log metrics to W&B\n",
    "wandb.log({\n",
    "    \"accuracy\": accuracy,\n",
    "    \"precision\": precision,\n",
    "    \"recall\": recall,\n",
    "    \"f1_score\": f1,\n",
    "    \"loss_curve\": wandb.Image(\"loss_curve.png\"),\n",
    "    \"confusion_matrix\": wandb.Image(\"confusion_matrix.png\")\n",
    "})\n",
    "\n",
    "\n",
    "print(\"Training complete. Metrics logged to W&B.\")"
   ]
  },
  {
   "cell_type": "code",
   "execution_count": 8,
   "metadata": {},
   "outputs": [
    {
     "name": "stdout",
     "output_type": "stream",
     "text": [
      "0.9333333333333333 0.9435897435897436 0.9333333333333333 0.9319444444444444\n"
     ]
    }
   ],
   "source": [
    "print(accuracy, precision, recall, f1,)"
   ]
  }
 ],
 "metadata": {
  "kernelspec": {
   "display_name": "Python 3",
   "language": "python",
   "name": "python3"
  },
  "language_info": {
   "codemirror_mode": {
    "name": "ipython",
    "version": 3
   },
   "file_extension": ".py",
   "mimetype": "text/x-python",
   "name": "python",
   "nbconvert_exporter": "python",
   "pygments_lexer": "ipython3",
   "version": "3.10.11"
  }
 },
 "nbformat": 4,
 "nbformat_minor": 2
}
