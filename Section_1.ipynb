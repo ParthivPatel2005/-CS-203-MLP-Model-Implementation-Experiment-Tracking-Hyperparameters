{
 "cells": [
  {
   "cell_type": "markdown",
   "metadata": {},
   "source": [
    "# Importing Library "
   ]
  },
  {
   "cell_type": "code",
   "execution_count": 1,
   "metadata": {},
   "outputs": [
    {
     "name": "stdout",
     "output_type": "stream",
     "text": [
      "Defaulting to user installation because normal site-packages is not writeable\n",
      "Requirement already satisfied: wandb in c:\\users\\parth\\appdata\\roaming\\python\\python310\\site-packages (0.19.7)\n",
      "Requirement already satisfied: docker-pycreds>=0.4.0 in c:\\users\\parth\\appdata\\roaming\\python\\python310\\site-packages (from wandb) (0.4.0)\n",
      "Requirement already satisfied: sentry-sdk>=2.0.0 in c:\\users\\parth\\appdata\\roaming\\python\\python310\\site-packages (from wandb) (2.22.0)\n",
      "Requirement already satisfied: setuptools in c:\\program files\\python310\\lib\\site-packages (from wandb) (65.5.0)\n",
      "Requirement already satisfied: platformdirs in c:\\users\\parth\\appdata\\roaming\\python\\python310\\site-packages (from wandb) (4.3.3)\n",
      "Requirement already satisfied: requests<3,>=2.0.0 in c:\\users\\parth\\appdata\\roaming\\python\\python310\\site-packages (from wandb) (2.32.3)\n",
      "Requirement already satisfied: click!=8.0.0,>=7.1 in c:\\users\\parth\\appdata\\roaming\\python\\python310\\site-packages (from wandb) (8.1.8)\n",
      "Requirement already satisfied: setproctitle in c:\\users\\parth\\appdata\\roaming\\python\\python310\\site-packages (from wandb) (1.3.5)\n",
      "Requirement already satisfied: psutil>=5.0.0 in c:\\users\\parth\\appdata\\roaming\\python\\python310\\site-packages (from wandb) (6.0.0)\n",
      "Requirement already satisfied: pydantic<3,>=2.6 in c:\\users\\parth\\appdata\\roaming\\python\\python310\\site-packages (from wandb) (2.10.6)\n",
      "Requirement already satisfied: pyyaml in c:\\users\\parth\\appdata\\roaming\\python\\python310\\site-packages (from wandb) (6.0.2)\n",
      "Requirement already satisfied: gitpython!=3.1.29,>=1.0.0 in c:\\users\\parth\\appdata\\roaming\\python\\python310\\site-packages (from wandb) (3.1.44)\n",
      "Requirement already satisfied: protobuf!=4.21.0,!=5.28.0,<6,>=3.19.0 in c:\\users\\parth\\appdata\\roaming\\python\\python310\\site-packages (from wandb) (5.29.3)\n",
      "Requirement already satisfied: typing-extensions<5,>=4.4 in c:\\users\\parth\\appdata\\roaming\\python\\python310\\site-packages (from wandb) (4.12.2)\n",
      "Requirement already satisfied: colorama in c:\\users\\parth\\appdata\\roaming\\python\\python310\\site-packages (from click!=8.0.0,>=7.1->wandb) (0.4.6)\n",
      "Requirement already satisfied: six>=1.4.0 in c:\\users\\parth\\appdata\\roaming\\python\\python310\\site-packages (from docker-pycreds>=0.4.0->wandb) (1.16.0)\n",
      "Requirement already satisfied: gitdb<5,>=4.0.1 in c:\\users\\parth\\appdata\\roaming\\python\\python310\\site-packages (from gitpython!=3.1.29,>=1.0.0->wandb) (4.0.12)\n",
      "Requirement already satisfied: annotated-types>=0.6.0 in c:\\users\\parth\\appdata\\roaming\\python\\python310\\site-packages (from pydantic<3,>=2.6->wandb) (0.7.0)\n",
      "Requirement already satisfied: pydantic-core==2.27.2 in c:\\users\\parth\\appdata\\roaming\\python\\python310\\site-packages (from pydantic<3,>=2.6->wandb) (2.27.2)\n",
      "Requirement already satisfied: charset-normalizer<4,>=2 in c:\\users\\parth\\appdata\\roaming\\python\\python310\\site-packages (from requests<3,>=2.0.0->wandb) (3.4.1)\n",
      "Requirement already satisfied: certifi>=2017.4.17 in c:\\users\\parth\\appdata\\roaming\\python\\python310\\site-packages (from requests<3,>=2.0.0->wandb) (2025.1.31)\n",
      "Requirement already satisfied: idna<4,>=2.5 in c:\\users\\parth\\appdata\\roaming\\python\\python310\\site-packages (from requests<3,>=2.0.0->wandb) (3.10)\n",
      "Requirement already satisfied: urllib3<3,>=1.21.1 in c:\\users\\parth\\appdata\\roaming\\python\\python310\\site-packages (from requests<3,>=2.0.0->wandb) (2.3.0)\n",
      "Requirement already satisfied: smmap<6,>=3.0.1 in c:\\users\\parth\\appdata\\roaming\\python\\python310\\site-packages (from gitdb<5,>=4.0.1->gitpython!=3.1.29,>=1.0.0->wandb) (5.0.2)\n"
     ]
    },
    {
     "name": "stderr",
     "output_type": "stream",
     "text": [
      "\n",
      "[notice] A new release of pip is available: 23.0.1 -> 25.0.1\n",
      "[notice] To update, run: python.exe -m pip install --upgrade pip\n"
     ]
    },
    {
     "name": "stdout",
     "output_type": "stream",
     "text": [
      "Defaulting to user installation because normal site-packages is not writeable\n",
      "Requirement already satisfied: seaborn in c:\\users\\parth\\appdata\\roaming\\python\\python310\\site-packages (0.13.2)\n",
      "Requirement already satisfied: numpy!=1.24.0,>=1.20 in c:\\users\\parth\\appdata\\roaming\\python\\python310\\site-packages (from seaborn) (1.26.4)\n",
      "Requirement already satisfied: matplotlib!=3.6.1,>=3.4 in c:\\users\\parth\\appdata\\roaming\\python\\python310\\site-packages (from seaborn) (3.10.0)\n",
      "Requirement already satisfied: pandas>=1.2 in c:\\users\\parth\\appdata\\roaming\\python\\python310\\site-packages (from seaborn) (2.2.3)\n",
      "Requirement already satisfied: fonttools>=4.22.0 in c:\\users\\parth\\appdata\\roaming\\python\\python310\\site-packages (from matplotlib!=3.6.1,>=3.4->seaborn) (4.56.0)\n",
      "Requirement already satisfied: cycler>=0.10 in c:\\users\\parth\\appdata\\roaming\\python\\python310\\site-packages (from matplotlib!=3.6.1,>=3.4->seaborn) (0.12.1)\n",
      "Requirement already satisfied: pyparsing>=2.3.1 in c:\\users\\parth\\appdata\\roaming\\python\\python310\\site-packages (from matplotlib!=3.6.1,>=3.4->seaborn) (3.2.1)\n",
      "Requirement already satisfied: contourpy>=1.0.1 in c:\\users\\parth\\appdata\\roaming\\python\\python310\\site-packages (from matplotlib!=3.6.1,>=3.4->seaborn) (1.3.1)\n",
      "Requirement already satisfied: packaging>=20.0 in c:\\users\\parth\\appdata\\roaming\\python\\python310\\site-packages (from matplotlib!=3.6.1,>=3.4->seaborn) (24.1)\n",
      "Requirement already satisfied: pillow>=8 in c:\\users\\parth\\appdata\\roaming\\python\\python310\\site-packages (from matplotlib!=3.6.1,>=3.4->seaborn) (11.1.0)\n",
      "Requirement already satisfied: kiwisolver>=1.3.1 in c:\\users\\parth\\appdata\\roaming\\python\\python310\\site-packages (from matplotlib!=3.6.1,>=3.4->seaborn) (1.4.8)\n",
      "Requirement already satisfied: python-dateutil>=2.7 in c:\\users\\parth\\appdata\\roaming\\python\\python310\\site-packages (from matplotlib!=3.6.1,>=3.4->seaborn) (2.9.0.post0)\n",
      "Requirement already satisfied: tzdata>=2022.7 in c:\\users\\parth\\appdata\\roaming\\python\\python310\\site-packages (from pandas>=1.2->seaborn) (2025.1)\n",
      "Requirement already satisfied: pytz>=2020.1 in c:\\users\\parth\\appdata\\roaming\\python\\python310\\site-packages (from pandas>=1.2->seaborn) (2025.1)\n",
      "Requirement already satisfied: six>=1.5 in c:\\users\\parth\\appdata\\roaming\\python\\python310\\site-packages (from python-dateutil>=2.7->matplotlib!=3.6.1,>=3.4->seaborn) (1.16.0)\n"
     ]
    },
    {
     "name": "stderr",
     "output_type": "stream",
     "text": [
      "\n",
      "[notice] A new release of pip is available: 23.0.1 -> 25.0.1\n",
      "[notice] To update, run: python.exe -m pip install --upgrade pip\n"
     ]
    }
   ],
   "source": [
    "!pip install wandb\n",
    "!pip install seaborn"
   ]
  },
  {
   "cell_type": "code",
   "execution_count": 2,
   "metadata": {},
   "outputs": [
    {
     "name": "stdout",
     "output_type": "stream",
     "text": [
      "Defaulting to user installation because normal site-packages is not writeable\n"
     ]
    },
    {
     "name": "stderr",
     "output_type": "stream",
     "text": [
      "ERROR: Could not find a version that satisfies the requirement distutils (from versions: none)\n",
      "ERROR: No matching distribution found for distutils\n",
      "\n",
      "[notice] A new release of pip is available: 23.0.1 -> 25.0.1\n",
      "[notice] To update, run: python.exe -m pip install --upgrade pip\n"
     ]
    }
   ],
   "source": [
    "!pip install distutils\n",
    "\n",
    "# restart the kernal now for py3.13"
   ]
  },
  {
   "cell_type": "code",
   "execution_count": 3,
   "metadata": {},
   "outputs": [
    {
     "name": "stderr",
     "output_type": "stream",
     "text": [
      "\u001b[34m\u001b[1mwandb\u001b[0m: Using wandb-core as the SDK backend.  Please refer to https://wandb.me/wandb-core for more information.\n",
      "\u001b[34m\u001b[1mwandb\u001b[0m: Currently logged in as: \u001b[33mparthivrpatel2005\u001b[0m (\u001b[33mparthivrpatel2005-indian-institute-of-technology-gandhinagar\u001b[0m) to \u001b[32mhttps://api.wandb.ai\u001b[0m. Use \u001b[1m`wandb login --relogin`\u001b[0m to force relogin\n"
     ]
    },
    {
     "data": {
      "text/html": [
       "Tracking run with wandb version 0.19.7"
      ],
      "text/plain": [
       "<IPython.core.display.HTML object>"
      ]
     },
     "metadata": {},
     "output_type": "display_data"
    },
    {
     "data": {
      "text/html": [
       "Run data is saved locally in <code>c:\\Users\\Parth\\OneDrive - iitgn.ac.in\\CS203_Lab_01-main\\New folder\\-CS-203-MLP-Model-Implementation-Experiment-Tracking-Hyperparameters\\wandb\\run-20250224_233420-gux1j7zz</code>"
      ],
      "text/plain": [
       "<IPython.core.display.HTML object>"
      ]
     },
     "metadata": {},
     "output_type": "display_data"
    },
    {
     "data": {
      "text/html": [
       "Syncing run <strong><a href='https://wandb.ai/parthivrpatel2005-indian-institute-of-technology-gandhinagar/mlp-iris-experiment/runs/gux1j7zz' target=\"_blank\">wandering-pond-2</a></strong> to <a href='https://wandb.ai/parthivrpatel2005-indian-institute-of-technology-gandhinagar/mlp-iris-experiment' target=\"_blank\">Weights & Biases</a> (<a href='https://wandb.me/developer-guide' target=\"_blank\">docs</a>)<br>"
      ],
      "text/plain": [
       "<IPython.core.display.HTML object>"
      ]
     },
     "metadata": {},
     "output_type": "display_data"
    },
    {
     "data": {
      "text/html": [
       " View project at <a href='https://wandb.ai/parthivrpatel2005-indian-institute-of-technology-gandhinagar/mlp-iris-experiment' target=\"_blank\">https://wandb.ai/parthivrpatel2005-indian-institute-of-technology-gandhinagar/mlp-iris-experiment</a>"
      ],
      "text/plain": [
       "<IPython.core.display.HTML object>"
      ]
     },
     "metadata": {},
     "output_type": "display_data"
    },
    {
     "data": {
      "text/html": [
       " View run at <a href='https://wandb.ai/parthivrpatel2005-indian-institute-of-technology-gandhinagar/mlp-iris-experiment/runs/gux1j7zz' target=\"_blank\">https://wandb.ai/parthivrpatel2005-indian-institute-of-technology-gandhinagar/mlp-iris-experiment/runs/gux1j7zz</a>"
      ],
      "text/plain": [
       "<IPython.core.display.HTML object>"
      ]
     },
     "metadata": {},
     "output_type": "display_data"
    },
    {
     "data": {
      "text/html": [
       "<button onClick=\"this.nextSibling.style.display='block';this.style.display='none';\">Display W&B run</button><iframe src='https://wandb.ai/parthivrpatel2005-indian-institute-of-technology-gandhinagar/mlp-iris-experiment/runs/gux1j7zz?jupyter=true' style='border:none;width:100%;height:420px;display:none;'></iframe>"
      ],
      "text/plain": [
       "<wandb.sdk.wandb_run.Run at 0x1b31bb62410>"
      ]
     },
     "execution_count": 3,
     "metadata": {},
     "output_type": "execute_result"
    }
   ],
   "source": [
    "import numpy as np\n",
    "import torch\n",
    "import torch.nn as nn\n",
    "import torch.optim as optim\n",
    "import matplotlib.pyplot as plt\n",
    "import seaborn as sns\n",
    "from sklearn.datasets import load_iris\n",
    "from sklearn.model_selection import train_test_split\n",
    "from sklearn.preprocessing import OneHotEncoder, StandardScaler\n",
    "from sklearn.metrics import accuracy_score, precision_score, recall_score, f1_score, confusion_matrix\n",
    "import wandb\n",
    "\n",
    "# Initialize W&B\n",
    "wandb.login()\n",
    "wandb.init(project=\"mlp-iris-experiment\")"
   ]
  },
  {
   "cell_type": "markdown",
   "metadata": {},
   "source": [
    "# Setting up Dataset"
   ]
  },
  {
   "cell_type": "code",
   "execution_count": 4,
   "metadata": {},
   "outputs": [],
   "source": [
    "# Load dataset\n",
    "iris = load_iris()\n",
    "X = iris.data\n",
    "y = iris.target.reshape(-1, 1)  # Reshape for one-hot encoding\n",
    "\n",
    "# # Shuffle data\n",
    "# from sklearn.utils import shuffle\n",
    "# X, y = shuffle(X, y, random_state=42)\n",
    "\n",
    "# One-hot encoding\n",
    "ohe = OneHotEncoder(sparse_output=False)\n",
    "y_onehot = ohe.fit_transform(y)\n",
    "\n",
    "# Normalize features\n",
    "scaler = StandardScaler()\n",
    "X_scaled = scaler.fit_transform(X)\n",
    "\n",
    "# Split dataset\n",
    "X_train, X_test, y_train, y_test = train_test_split(X_scaled, y_onehot, test_size=0.2, random_state=42)\n",
    "X_train, X_val, y_train, y_val = train_test_split(X_scaled, y_onehot, test_size=0.1, random_state=42)\n",
    "\n",
    "# Convert to PyTorch tensors\n",
    "X_train = torch.tensor(X_train, dtype=torch.float32)\n",
    "X_test = torch.tensor(X_test, dtype=torch.float32)\n",
    "y_train = torch.tensor(y_train, dtype=torch.float32)\n",
    "y_test = torch.tensor(y_test, dtype=torch.float32)\n",
    "X_val = torch.tensor(X_val, dtype=torch.float32)\n",
    "y_val = torch.tensor(y_val, dtype=torch.float32)\n",
    "\n"
   ]
  },
  {
   "cell_type": "markdown",
   "metadata": {},
   "source": [
    "# Setiing up Model"
   ]
  },
  {
   "cell_type": "code",
   "execution_count": null,
   "metadata": {},
   "outputs": [],
   "source": [
    "# Define MLP model class\n",
    "class MLPModel(nn.Module):\n",
    "    def __init__(self, input_size, hidden_units, output_size):\n",
    "        super(MLPModel, self).__init__()\n",
    "        self.fc1 = nn.Linear(input_size, hidden_units)\n",
    "        self.relu = nn.ReLU()\n",
    "        self.fc2 = nn.Linear(hidden_units, output_size)\n",
    "    def forward(self, x):\n",
    "        x = self.fc1(x)\n",
    "        x = self.relu(x)\n",
    "        x = self.fc2(x)\n",
    "        \"\"\"Here we are not the softmax function as the activation function for the output layer.\n",
    "          beacsue we are using the cross entropy loss function which already has the softmax function implemented in it\"\"\"\n",
    "        return x\n",
    "\n",
    "# Instantiate the model, loss function, and optimizer\n",
    "model = MLPModel(input_size=4, hidden_units=16, output_size=3)\n",
    "criterion = nn.CrossEntropyLoss()\n",
    "optimizer = optim.Adam(model.parameters(), lr=0.001)"
   ]
  },
  {
   "cell_type": "markdown",
   "metadata": {},
   "source": [
    "# Training The Model"
   ]
  },
  {
   "cell_type": "code",
   "execution_count": 6,
   "metadata": {},
   "outputs": [
    {
     "name": "stdout",
     "output_type": "stream",
     "text": [
      "Epoch 1: train_loss=5.9715, val_loss=1.1057\n",
      "Epoch 2: train_loss=5.5891, val_loss=1.0704\n",
      "Epoch 3: train_loss=5.3681, val_loss=1.0383\n",
      "Epoch 4: train_loss=5.3055, val_loss=1.0082\n",
      "Epoch 5: train_loss=5.1589, val_loss=0.9801\n",
      "Epoch 6: train_loss=4.9020, val_loss=0.9537\n",
      "Epoch 7: train_loss=4.8936, val_loss=0.9288\n",
      "Epoch 8: train_loss=4.5938, val_loss=0.9052\n",
      "Epoch 9: train_loss=4.7535, val_loss=0.8826\n",
      "Epoch 10: train_loss=4.4881, val_loss=0.8614\n",
      "Epoch 11: train_loss=4.3158, val_loss=0.8412\n",
      "Epoch 12: train_loss=4.3732, val_loss=0.8214\n",
      "Epoch 13: train_loss=4.1744, val_loss=0.8031\n",
      "Epoch 14: train_loss=4.3636, val_loss=0.7852\n",
      "Epoch 15: train_loss=3.9117, val_loss=0.7686\n",
      "Epoch 16: train_loss=3.8314, val_loss=0.7520\n",
      "Epoch 17: train_loss=3.8582, val_loss=0.7360\n",
      "Epoch 18: train_loss=3.8619, val_loss=0.7205\n",
      "Epoch 19: train_loss=3.6881, val_loss=0.7053\n",
      "Epoch 20: train_loss=3.8447, val_loss=0.6906\n",
      "Epoch 21: train_loss=3.6081, val_loss=0.6761\n",
      "Epoch 22: train_loss=3.3247, val_loss=0.6621\n",
      "Epoch 23: train_loss=3.2677, val_loss=0.6486\n",
      "Epoch 24: train_loss=3.5335, val_loss=0.6354\n",
      "Epoch 25: train_loss=3.2671, val_loss=0.6225\n",
      "Epoch 26: train_loss=3.4347, val_loss=0.6098\n",
      "Epoch 27: train_loss=3.2675, val_loss=0.5976\n",
      "Epoch 28: train_loss=2.9422, val_loss=0.5858\n",
      "Epoch 29: train_loss=3.2607, val_loss=0.5744\n",
      "Epoch 30: train_loss=2.9958, val_loss=0.5635\n",
      "Epoch 31: train_loss=3.1565, val_loss=0.5528\n",
      "Epoch 32: train_loss=3.0947, val_loss=0.5426\n",
      "Epoch 33: train_loss=3.3391, val_loss=0.5325\n",
      "Epoch 34: train_loss=2.7296, val_loss=0.5230\n",
      "Epoch 35: train_loss=2.8421, val_loss=0.5135\n",
      "Epoch 36: train_loss=3.1505, val_loss=0.5042\n",
      "Epoch 37: train_loss=2.7177, val_loss=0.4952\n",
      "Epoch 38: train_loss=2.6993, val_loss=0.4864\n",
      "Epoch 39: train_loss=2.6395, val_loss=0.4777\n",
      "Epoch 40: train_loss=2.7082, val_loss=0.4693\n",
      "Epoch 41: train_loss=2.5210, val_loss=0.4613\n",
      "Epoch 42: train_loss=2.4642, val_loss=0.4535\n",
      "Epoch 43: train_loss=2.5041, val_loss=0.4458\n",
      "Epoch 44: train_loss=2.4786, val_loss=0.4387\n",
      "Epoch 45: train_loss=2.3731, val_loss=0.4319\n",
      "Epoch 46: train_loss=2.4535, val_loss=0.4252\n",
      "Epoch 47: train_loss=2.4163, val_loss=0.4184\n",
      "Epoch 48: train_loss=2.2143, val_loss=0.4119\n",
      "Epoch 49: train_loss=2.3851, val_loss=0.4056\n",
      "Epoch 50: train_loss=2.4197, val_loss=0.3994\n"
     ]
    }
   ],
   "source": [
    "import torch\n",
    "from torch.utils.data import DataLoader, TensorDataset\n",
    "\n",
    "# Define DataLoader for batching\n",
    "train_dataset = TensorDataset(X_train, y_train)\n",
    "train_loader = DataLoader(train_dataset, batch_size=32, shuffle=True)\n",
    "\n",
    "val_dataset = TensorDataset(X_test, y_test)\n",
    "val_loader = DataLoader(val_dataset, batch_size=32, shuffle=False)\n",
    "\n",
    "# Updated Training Function\n",
    "def train_model(model, train_loader, val_loader, epochs=50):\n",
    "    train_losses = []\n",
    "    val_losses = []\n",
    "    \n",
    "    for epoch in range(epochs):\n",
    "        model.train()\n",
    "        total_train_loss = 0\n",
    "        \n",
    "        for X_batch, y_batch in train_loader:\n",
    "            optimizer.zero_grad()\n",
    "            outputs = model(X_batch)\n",
    "            loss = criterion(outputs, torch.max(y_batch, 1)[1])\n",
    "            loss.backward()\n",
    "            optimizer.step()\n",
    "            \n",
    "            total_train_loss += loss.item()  # Summing batch losses\n",
    "        \n",
    "        train_losses.append(total_train_loss)\n",
    "\n",
    "        # Validation\n",
    "        model.eval()\n",
    "        total_val_loss = 0\n",
    "        with torch.no_grad():\n",
    "            for X_batch, y_batch in val_loader:\n",
    "                val_outputs = model(X_batch)\n",
    "                val_loss = criterion(val_outputs, torch.max(y_batch, 1)[1])\n",
    "                total_val_loss += val_loss.item()  # Summing batch losses\n",
    "        \n",
    "        val_losses.append(total_val_loss)\n",
    "        \n",
    "        # Log losses\n",
    "        wandb.log({\"train_loss\": total_train_loss, \"val_loss\": total_val_loss})\n",
    "        print(f\"Epoch {epoch+1}: train_loss={total_train_loss:.4f}, val_loss={total_val_loss:.4f}\")\n",
    "    \n",
    "    return train_losses, val_losses\n",
    "\n",
    "# Train model\n",
    "train_losses, val_losses = train_model(model, train_loader, val_loader, epochs=50)\n"
   ]
  },
  {
   "cell_type": "code",
   "execution_count": 7,
   "metadata": {},
   "outputs": [
    {
     "name": "stdout",
     "output_type": "stream",
     "text": [
      "Training complete. Metrics logged to W&B.\n"
     ]
    },
    {
     "data": {
      "image/png": "[encoded data removed]",
      "text/plain": [
       "<Figure size 600x500 with 2 Axes>"
      ]
     },
     "metadata": {},
     "output_type": "display_data"
    },
    {
     "data": {
      "image/png": "[encoded data removed]",
      "text/plain": [
       "<Figure size 640x480 with 1 Axes>"
      ]
     },
     "metadata": {},
     "output_type": "display_data"
    }
   ],
   "source": [
    "\n",
    "# Evaluate model\n",
    "def evaluate_model(model, X_test, y_test):\n",
    "    with torch.no_grad():\n",
    "        y_pred = model(X_test)\n",
    "        y_pred_classes = torch.argmax(y_pred, axis=1).numpy()\n",
    "        y_true_classes = torch.argmax(y_test, axis=1).numpy()\n",
    "    \n",
    "    accuracy = accuracy_score(y_true_classes, y_pred_classes)\n",
    "    precision = precision_score(y_true_classes, y_pred_classes, average='weighted')\n",
    "    recall = recall_score(y_true_classes, y_pred_classes, average='weighted')\n",
    "    f1 = f1_score(y_true_classes, y_pred_classes, average='weighted')\n",
    "    \n",
    "    return accuracy, precision, recall, f1, y_true_classes, y_pred_classes\n",
    "\n",
    "accuracy, precision, recall, f1, y_true_classes, y_pred_classes = evaluate_model(model, X_test, y_test)\n",
    "\n",
    "# Confusion matrix\n",
    "cm = confusion_matrix(y_true_classes, y_pred_classes)\n",
    "plt.figure(figsize=(6, 5))\n",
    "sns.heatmap(cm, annot=True, fmt='d', cmap='Blues', xticklabels=iris.target_names, yticklabels=iris.target_names)\n",
    "plt.xlabel(\"Predicted\")\n",
    "plt.ylabel(\"Actual\")\n",
    "plt.title(\"Confusion Matrix\")\n",
    "plt.savefig(\"confusion_matrix.png\")\n",
    "\n",
    "\n",
    "# Plot training history\n",
    "plt.figure()\n",
    "plt.plot(train_losses, label='Training Loss')\n",
    "plt.plot(val_losses, label=\"Validation Loss\")\n",
    "# plot val losses along with red marker\n",
    "\n",
    "plt.xlabel(\"Epochs\")\n",
    "plt.ylabel(\"Loss\")\n",
    "plt.legend()\n",
    "plt.title(\"Training and Validation Loss\")\n",
    "plt.savefig(\"loss_curve.png\")\n",
    "\n",
    "# Log metrics to W&B\n",
    "wandb.log({\n",
    "    \"accuracy\": accuracy,\n",
    "    \"precision\": precision,\n",
    "    \"recall\": recall,\n",
    "    \"f1_score\": f1,\n",
    "    \"loss_curve\": wandb.Image(\"loss_curve.png\"),\n",
    "    \"confusion_matrix\": wandb.Image(\"confusion_matrix.png\")\n",
    "})\n",
    "\n",
    "\n",
    "print(\"Training complete. Metrics logged to W&B.\")"
   ]
  },
  {
   "cell_type": "code",
   "execution_count": 8,
   "metadata": {},
   "outputs": [
    {
     "name": "stdout",
     "output_type": "stream",
     "text": [
      "0.8666666666666667 0.9022222222222223 0.8666666666666667 0.8578754578754579\n"
     ]
    }
   ],
   "source": [
    "print(accuracy, precision, recall, f1,)"
   ]
  }
 ],
 "metadata": {
  "kernelspec": {
   "display_name": "Python 3",
   "language": "python",
   "name": "python3"
  },
  "language_info": {
   "codemirror_mode": {
    "name": "ipython",
    "version": 3
   },
   "file_extension": ".py",
   "mimetype": "text/x-python",
   "name": "python",
   "nbconvert_exporter": "python",
   "pygments_lexer": "ipython3",
   "version": "3.10.11"
  }
 },
 "nbformat": 4,
 "nbformat_minor": 2
}
